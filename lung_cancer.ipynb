{
  "nbformat": 4,
  "nbformat_minor": 0,
  "metadata": {
    "colab": {
      "provenance": []
    },
    "kernelspec": {
      "name": "python3",
      "display_name": "Python 3"
    },
    "language_info": {
      "name": "python"
    }
  },
  "cells": [
    {
      "cell_type": "code",
      "execution_count": null,
      "metadata": {
        "id": "a9i81ss0C7_m"
      },
      "outputs": [],
      "source": [
        "# Install dependencies as needed:\n",
        "# pip install kagglehub[pandas-datasets]\n",
        "import kagglehub\n",
        "from kagglehub import KaggleDatasetAdapter\n",
        "\n",
        "# Set the path to the file you'd like to load\n",
        "# Based on the previous output, the correct file name is 'survey lung cancer.csv'\n",
        "file_path = \"survey lung cancer.csv\"\n",
        "\n",
        "# Load the latest version using dataset_load as recommended\n",
        "df = kagglehub.dataset_load(\n",
        "  KaggleDatasetAdapter.PANDAS,\n",
        "  \"mysarahmadbhat/lung-cancer\",\n",
        "  file_path,\n",
        "  # Provide any additional arguments like\n",
        "  # sql_query or pandas_kwargs. See the\n",
        "  # documenation for more information:\n",
        "  # https://github.com/Kaggle/kagglehub/blob/main/README.md#kaggledatasetadapterpandas\n",
        ")\n",
        "\n",
        "print(\"records:\", df.to_string())"
      ]
    },
    {
      "cell_type": "code",
      "metadata": {
        "id": "724f9a17"
      },
      "source": [
        "import os\n",
        "\n",
        "# List files in the dataset directory\n",
        "dataset_directory = '/kaggle/input/lung-cancer'\n",
        "if os.path.exists(dataset_directory):\n",
        "    print(\"Files in the dataset directory:\", os.listdir(dataset_directory))\n",
        "else:\n",
        "    print(f\"Directory not found: {dataset_directory}\")"
      ],
      "execution_count": null,
      "outputs": []
    },
    {
      "cell_type": "code",
      "metadata": {
        "id": "92ca5124"
      },
      "source": [
        "# Define the list of condition columns\n",
        "condition_cols = ['SMOKING', 'YELLOW_FINGERS', 'ANXIETY', 'PEER_PRESSURE', 'CHRONIC DISEASE', 'FATIGUE ', 'ALLERGY ', 'WHEEZING', 'ALCOHOL CONSUMING', 'COUGHING', 'SHORTNESS OF BREATH', 'SWALLOWING DIFFICULTY', 'CHEST PAIN']"
      ],
      "execution_count": 23,
      "outputs": []
    },
    {
      "cell_type": "code",
      "metadata": {
        "id": "74f07b90"
      },
      "source": [
        "import seaborn as sns\n",
        "import matplotlib.pyplot as plt\n",
        "\n",
        "for condition in condition_cols:\n",
        "    grouped_data = df_lung_cancer_filtered.groupby(['Age_Group', 'GENDER', condition], observed=False).size().reset_index(name='Count')\n",
        "    plt.figure(figsize=(12, 7))\n",
        "    sns.barplot(data=grouped_data, x='Age_Group', y='Count', hue='GENDER', palette={'M': 'blue', 'F': 'pink'})\n",
        "    plt.title(f'Age Group vs. Count for {condition} by Gender (Lung Cancer Patients)')\n",
        "    plt.xlabel('Age Group')\n",
        "    plt.ylabel('Number of Individuals')\n",
        "    plt.xticks(rotation=45)\n",
        "    plt.tight_layout()\n",
        "    plt.show()"
      ],
      "execution_count": null,
      "outputs": []
    }
  ]
}