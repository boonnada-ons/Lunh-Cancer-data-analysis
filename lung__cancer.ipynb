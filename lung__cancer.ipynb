{
  "nbformat": 4,
  "nbformat_minor": 0,
  "metadata": {
    "colab": {
      "provenance": []
    },
    "kernelspec": {
      "name": "python3",
      "display_name": "Python 3"
    },
    "language_info": {
      "name": "python"
    }
  },
  "cells": [
    {
      "cell_type": "code",
      "execution_count": null,
      "metadata": {
        "id": "i-X6yiNgO-P0"
      },
      "outputs": [],
      "source": [
        "\n",
        "import kagglehub\n",
        "from kagglehub import KaggleDatasetAdapter\n",
        "\n",
        "file_path = \"survey lung cancer.csv\"\n",
        "\n",
        "df = kagglehub.dataset_load(\n",
        "  KaggleDatasetAdapter.PANDAS,\n",
        "  \"mysarahmadbhat/lung-cancer\",\n",
        "  file_path,\n",
        "\n",
        ")\n",
        "\n",
        "print(\"records:\", df.to_string())\n"
      ]
    },
    {
      "cell_type": "code",
      "source": [
        "import os\n",
        "\n",
        "dataset_directory = '/kaggle/input/lung-cancer'\n",
        "if os.path.exists(dataset_directory):\n",
        "    print(\"Files in the dataset directory:\", os.listdir(dataset_directory))\n",
        "else:\n",
        "    print(f\"Directory not found: {dataset_directory}\")"
      ],
      "metadata": {
        "id": "t7SKlGSJO_3q"
      },
      "execution_count": null,
      "outputs": []
    },
    {
      "cell_type": "code",
      "source": [
        "condition_cols = ['SMOKING', 'YELLOW_FINGERS', 'ANXIETY', 'PEER_PRESSURE', 'CHRONIC DISEASE', 'FATIGUE ', 'ALLERGY ', 'WHEEZING', 'ALCOHOL CONSUMING', 'COUGHING', 'SHORTNESS OF BREATH', 'SWALLOWING DIFFICULTY', 'CHEST PAIN']"
      ],
      "metadata": {
        "id": "I5lOZPh6PDHU"
      },
      "execution_count": 3,
      "outputs": []
    },
    {
      "cell_type": "code",
      "source": [
        "import seaborn as sns\n",
        "import matplotlib.pyplot as plt\n",
        "import pandas as pd\n",
        "\n",
        "\n",
        "bins = [20, 30, 40, 50, 60, 70, 80]\n",
        "labels = ['20-29', '30-39', '40-49', '50-59', '60-69', '70-79']\n",
        "df['Age_Group'] = pd.cut(df['AGE'], bins=bins, labels=labels, right=False)\n",
        "\n",
        "\n",
        "df_lung_cancer_filtered = df[df['LUNG_CANCER'] == 'YES'].copy()\n",
        "\n",
        "for condition in condition_cols:\n",
        "    grouped_data = df_lung_cancer_filtered.groupby(['Age_Group', 'GENDER', condition], observed=False).size().reset_index(name='Count')\n",
        "    plt.figure(figsize=(12, 7))\n",
        "    sns.barplot(data=grouped_data, x='Age_Group', y='Count', hue='GENDER', palette={'M': 'blue', 'F': 'pink'})\n",
        "    plt.title(f'Age Group vs. Count for {condition} by Gender (Lung Cancer Patients)')\n",
        "    plt.xlabel('Age Group')\n",
        "    plt.ylabel('Number of Individuals')\n",
        "    plt.xticks(rotation=45)\n",
        "    plt.tight_layout()\n",
        "    plt.show()"
      ],
      "metadata": {
        "id": "njp4AHGWPH2U"
      },
      "execution_count": null,
      "outputs": []
    }
  ]
}