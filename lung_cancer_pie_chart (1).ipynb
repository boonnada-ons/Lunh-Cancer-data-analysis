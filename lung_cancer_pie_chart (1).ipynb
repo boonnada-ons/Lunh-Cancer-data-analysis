{
  "nbformat": 4,
  "nbformat_minor": 0,
  "metadata": {
    "colab": {
      "provenance": []
    },
    "kernelspec": {
      "name": "python3",
      "display_name": "Python 3"
    },
    "language_info": {
      "name": "python"
    }
  },
  "cells": [
    {
      "cell_type": "code",
      "execution_count": null,
      "metadata": {
        "id": "i-X6yiNgO-P0"
      },
      "outputs": [],
      "source": [
        "\n",
        "import kagglehub\n",
        "from kagglehub import KaggleDatasetAdapter\n",
        "\n",
        "file_path = \"survey lung cancer.csv\"\n",
        "\n",
        "\n",
        "df = kagglehub.dataset_load(\n",
        "  KaggleDatasetAdapter.PANDAS,\n",
        "  \"mysarahmadbhat/lung-cancer\",\n",
        "  file_path,\n",
        "\n",
        ")\n",
        "\n",
        "print(\"records:\", df.to_string())\n"
      ]
    },
    {
      "cell_type": "code",
      "source": [
        "import os\n",
        "\n",
        "\n",
        "dataset_directory = '/kaggle/input/lung-cancer'\n",
        "if os.path.exists(dataset_directory):\n",
        "    print(\"Files in the dataset directory:\", os.listdir(dataset_directory))\n",
        "else:\n",
        "    print(f\"Directory not found: {dataset_directory}\")"
      ],
      "metadata": {
        "id": "t7SKlGSJO_3q"
      },
      "execution_count": null,
      "outputs": []
    },
    {
      "cell_type": "code",
      "source": [
        "\n",
        "condition_cols = ['SMOKING', 'YELLOW_FINGERS', 'ANXIETY', 'PEER_PRESSURE', 'CHRONIC DISEASE', 'FATIGUE ', 'ALLERGY ', 'WHEEZING', 'ALCOHOL CONSUMING', 'COUGHING', 'SHORTNESS OF BREATH', 'SWALLOWING DIFFICULTY', 'CHEST PAIN']"
      ],
      "metadata": {
        "id": "I5lOZPh6PDHU"
      },
      "execution_count": 7,
      "outputs": []
    },
    {
      "cell_type": "code",
      "source": [
        "import kagglehub\n",
        "from kagglehub import KaggleDatasetAdapter\n",
        "import pandas as pd\n",
        "\n",
        "file_path = \"survey lung cancer.csv\"\n",
        "\n",
        "\n",
        "df = kagglehub.dataset_load(\n",
        "  KaggleDatasetAdapter.PANDAS,\n",
        "  \"mysarahmadbhat/lung-cancer\",\n",
        "  file_path,\n",
        ")\n",
        "\n",
        "\n",
        "\n",
        "df_lung_cancer_filtered = df[df['LUNG_CANCER'] == 'YES'].copy()\n",
        "\n",
        "\n",
        "condition_cols = ['SMOKING', 'YELLOW_FINGERS', 'ANXIETY', 'PEER_PRESSURE', 'CHRONIC DISEASE', 'FATIGUE ', 'ALLERGY ', 'WHEEZING', 'ALCOHOL CONSUMING', 'COUGHING', 'SHORTNESS OF BREATH', 'SWALLOWING DIFFICULTY', 'CHEST PAIN']\n",
        "\n",
        "\n",
        "\n",
        "condition_counts = {}\n",
        "for condition in condition_cols:\n",
        "\n",
        "    condition_count = df_lung_cancer_filtered[df_lung_cancer_filtered[condition] == 2].shape[0]\n",
        "    condition_counts[condition] = condition_count\n",
        "\n",
        "\n",
        "print(\"Number of lung cancer patients with each condition:\")\n",
        "for condition, count in condition_counts.items():\n",
        "    print(f\"{condition}: {count}\")"
      ],
      "metadata": {
        "id": "njp4AHGWPH2U"
      },
      "execution_count": null,
      "outputs": []
    },
    {
      "cell_type": "code",
      "source": [
        "import matplotlib.pyplot as plt\n",
        "import pandas as pd\n",
        "\n",
        "condition_counts_series = pd.Series(condition_counts)\n",
        "\n",
        "\n",
        "plt.figure(figsize=(10, 10))\n",
        "plt.pie(condition_counts_series, labels=condition_counts_series.index, autopct='%1.1f%%', startangle=140)\n",
        "plt.title('Proportion of Lung Cancer Patients with Each Condition')\n",
        "plt.axis('equal')\n",
        "plt.tight_layout()\n",
        "plt.show()"
      ],
      "metadata": {
        "id": "qwpz95jrakfw"
      },
      "execution_count": null,
      "outputs": []
    }
  ]
}