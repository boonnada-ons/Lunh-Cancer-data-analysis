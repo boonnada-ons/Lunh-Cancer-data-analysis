{
  "nbformat": 4,
  "nbformat_minor": 0,
  "metadata": {
    "colab": {
      "provenance": []
    },
    "kernelspec": {
      "name": "python3",
      "display_name": "Python 3"
    },
    "language_info": {
      "name": "python"
    }
  },
  "cells": [
    {
      "cell_type": "code",
      "metadata": {
        "id": "862ba7f5"
      },
      "source": [
        "# Examine the columns of the lung_cancer_patients DataFrame\n",
        "print(lung_cancer_patients.columns)\n",
        "\n",
        "# Create a list of condition columns excluding specified columns\n",
        "all_columns = lung_cancer_patients.columns.tolist()\n",
        "columns_to_exclude = ['GENDER', 'AGE', 'LUNG_CANCER', 'Age_Group']\n",
        "condition_columns = [col for col in all_columns if col not in columns_to_exclude]\n",
        "\n",
        "# Print the list of condition columns\n",
        "print(\"\\nCondition columns:\")\n",
        "print(condition_columns)"
      ],
      "execution_count": null,
      "outputs": []
    },
    {
      "cell_type": "code",
      "metadata": {
        "id": "fd300cee"
      },
      "source": [
        "condition_counts = {}\n",
        "for column in df_conditions.columns:\n",
        "    yes_count = df_conditions[column].value_counts().get('Yes', 0)\n",
        "    condition_counts[column] = yes_count\n",
        "\n",
        "print(\"Number of lung cancer patients with each condition:\")\n",
        "for condition, count in condition_counts.items():\n",
        "    print(f\"{condition}: {count}\")"
      ],
      "execution_count": null,
      "outputs": []
    },
    {
      "cell_type": "code",
      "metadata": {
        "id": "15ffec64"
      },
      "source": [
        "# Calculate the total number of lung cancer patients\n",
        "total_patients = len(lung_cancer_patients)\n",
        "\n",
        "# Calculate the percentage of lung cancer patients for each condition\n",
        "condition_percentages = {}\n",
        "for condition, count in condition_counts.items():\n",
        "    percentage = (count / total_patients) * 100\n",
        "    condition_percentages[condition] = percentage\n",
        "\n",
        "# Print the condition_percentages dictionary\n",
        "print(\"Percentage of lung cancer patients with each condition:\")\n",
        "for condition, percentage in condition_percentages.items():\n",
        "    print(f\"{condition}: {percentage:.2f}%\")"
      ],
      "execution_count": null,
      "outputs": []
    },
    {
      "cell_type": "code",
      "metadata": {
        "id": "3069a78f"
      },
      "source": [
        "# Create a new figure and axes for the plot\n",
        "fig, ax = plt.subplots(figsize=(10, 10))\n",
        "\n",
        "# Create the pie chart\n",
        "ax.pie(condition_percentages.values(), labels=condition_percentages.keys(), autopct='%1.1f%%', startangle=140)\n",
        "\n",
        "# Add a title to the pie chart\n",
        "ax.set_title('Percentage of Lung Cancer Patients with Each Condition')\n",
        "\n",
        "# Ensure the pie chart is drawn as a circle\n",
        "ax.axis('equal')\n",
        "\n",
        "# Show the plot\n",
        "plt.show()"
      ],
      "execution_count": null,
      "outputs": []
    }
  ]
}